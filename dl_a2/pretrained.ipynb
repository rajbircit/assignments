{
  "nbformat": 4,
  "nbformat_minor": 0,
  "metadata": {
    "colab": {
      "name": "pretrained.ipynb",
      "provenance": [],
      "collapsed_sections": [],
      "toc_visible": true,
      "include_colab_link": true
    },
    "kernelspec": {
      "name": "python3",
      "display_name": "Python 3"
    },
    "language_info": {
      "name": "python"
    },
    "accelerator": "GPU"
  },
  "cells": [
    {
      "cell_type": "markdown",
      "metadata": {
        "id": "view-in-github",
        "colab_type": "text"
      },
      "source": [
        "<a href=\"https://colab.research.google.com/github/rajbircit/assignments/blob/main/dl_a2/pretrained.ipynb\" target=\"_parent\"><img src=\"https://colab.research.google.com/assets/colab-badge.svg\" alt=\"Open In Colab\"/></a>"
      ]
    },
    {
      "cell_type": "markdown",
      "metadata": {
        "id": "XbYaJtuDaTSE"
      },
      "source": [
        "# Setup"
      ]
    },
    {
      "cell_type": "markdown",
      "metadata": {
        "id": "PbaCPhN3m9aK"
      },
      "source": [
        "#### Show the environment"
      ]
    },
    {
      "cell_type": "code",
      "metadata": {
        "id": "CB1IYEiCVI31",
        "colab": {
          "base_uri": "https://localhost:8080/"
        },
        "outputId": "aeeeae04-3a52-4b11-960d-71caa922ff63"
      },
      "source": [
        "!nvidia-smi\n",
        "print()\n",
        "print()\n",
        "print('=' * 80)\n",
        "print()\n",
        "print()\n",
        "!df -h\n",
        "print()\n",
        "print()\n",
        "print('=' * 80)\n",
        "print()\n",
        "print()\n",
        "!free -m\n",
        "print()\n",
        "print()\n",
        "print('=' * 80)\n",
        "print()\n",
        "print()\n",
        "!lscpu\n",
        "print()\n",
        "print()\n",
        "print('=' * 80)\n",
        "print()\n",
        "print()\n",
        "! ps -eo pmem,pcpu,vsize,pid,cmd | sort -k 1 -nr | head -5\n"
      ],
      "execution_count": 2,
      "outputs": [
        {
          "output_type": "stream",
          "text": [
            "Mon Apr 26 01:41:41 2021       \n",
            "+-----------------------------------------------------------------------------+\n",
            "| NVIDIA-SMI 465.19.01    Driver Version: 460.32.03    CUDA Version: 11.2     |\n",
            "|-------------------------------+----------------------+----------------------+\n",
            "| GPU  Name        Persistence-M| Bus-Id        Disp.A | Volatile Uncorr. ECC |\n",
            "| Fan  Temp  Perf  Pwr:Usage/Cap|         Memory-Usage | GPU-Util  Compute M. |\n",
            "|                               |                      |               MIG M. |\n",
            "|===============================+======================+======================|\n",
            "|   0  Tesla T4            Off  | 00000000:00:04.0 Off |                    0 |\n",
            "| N/A   70C    P8    11W /  70W |      0MiB / 15109MiB |      0%      Default |\n",
            "|                               |                      |                  N/A |\n",
            "+-------------------------------+----------------------+----------------------+\n",
            "                                                                               \n",
            "+-----------------------------------------------------------------------------+\n",
            "| Processes:                                                                  |\n",
            "|  GPU   GI   CI        PID   Type   Process name                  GPU Memory |\n",
            "|        ID   ID                                                   Usage      |\n",
            "|=============================================================================|\n",
            "|  No running processes found                                                 |\n",
            "+-----------------------------------------------------------------------------+\n",
            "\n",
            "\n",
            "================================================================================\n",
            "\n",
            "\n",
            "Filesystem      Size  Used Avail Use% Mounted on\n",
            "overlay          69G   40G   29G  58% /\n",
            "tmpfs            64M     0   64M   0% /dev\n",
            "tmpfs           6.4G     0  6.4G   0% /sys/fs/cgroup\n",
            "shm             5.8G     0  5.8G   0% /dev/shm\n",
            "/dev/sda1        75G   41G   34G  55% /opt/bin\n",
            "tmpfs           6.4G   36K  6.4G   1% /var/colab\n",
            "tmpfs           6.4G     0  6.4G   0% /proc/acpi\n",
            "tmpfs           6.4G     0  6.4G   0% /proc/scsi\n",
            "tmpfs           6.4G     0  6.4G   0% /sys/firmware\n",
            "drive            69G   41G   28G  60% /content/gdrive\n",
            "\n",
            "\n",
            "================================================================================\n",
            "\n",
            "\n",
            "              total        used        free      shared  buff/cache   available\n",
            "Mem:          13021         649       11286           1        1084       12106\n",
            "Swap:             0           0           0\n",
            "\n",
            "\n",
            "================================================================================\n",
            "\n",
            "\n",
            "Architecture:        x86_64\n",
            "CPU op-mode(s):      32-bit, 64-bit\n",
            "Byte Order:          Little Endian\n",
            "CPU(s):              2\n",
            "On-line CPU(s) list: 0,1\n",
            "Thread(s) per core:  2\n",
            "Core(s) per socket:  1\n",
            "Socket(s):           1\n",
            "NUMA node(s):        1\n",
            "Vendor ID:           GenuineIntel\n",
            "CPU family:          6\n",
            "Model:               79\n",
            "Model name:          Intel(R) Xeon(R) CPU @ 2.20GHz\n",
            "Stepping:            0\n",
            "CPU MHz:             2199.998\n",
            "BogoMIPS:            4399.99\n",
            "Hypervisor vendor:   KVM\n",
            "Virtualization type: full\n",
            "L1d cache:           32K\n",
            "L1i cache:           32K\n",
            "L2 cache:            256K\n",
            "L3 cache:            56320K\n",
            "NUMA node0 CPU(s):   0,1\n",
            "Flags:               fpu vme de pse tsc msr pae mce cx8 apic sep mtrr pge mca cmov pat pse36 clflush mmx fxsr sse sse2 ss ht syscall nx pdpe1gb rdtscp lm constant_tsc rep_good nopl xtopology nonstop_tsc cpuid tsc_known_freq pni pclmulqdq ssse3 fma cx16 pcid sse4_1 sse4_2 x2apic movbe popcnt aes xsave avx f16c rdrand hypervisor lahf_lm abm 3dnowprefetch invpcid_single ssbd ibrs ibpb stibp fsgsbase tsc_adjust bmi1 hle avx2 smep bmi2 erms invpcid rtm rdseed adx smap xsaveopt arat md_clear arch_capabilities\n",
            "\n",
            "\n",
            "================================================================================\n",
            "\n",
            "\n",
            " 0.8  7.0 692036     488 /usr/bin/python3 -m ipykernel_launcher -f /root/.local/share/jupyter/runtime/kernel-36e8ca50-2420-42b5-9815-3dd0fadd27a8.json\n",
            " 0.4  1.5 2465000    201 /opt/google/drive/drive --features=fuse_max_background:1000,max_read_qps:1000,max_write_qps:1000,max_operation_batch_size:15,max_parallel_push_task_instances:10,opendir_timeout_ms:120000,virtual_folders_omit_spaces:true --inet_family=IPV4_ONLY --preferences=trusted_root_certs_file_path:/opt/google/drive/roots.pem,mount_point_path:/content/gdrive --console_auth --auto_restart_count=1 --first_auto_restart_timestamp=551 --single_process --parent_version=46.0.3.0 --crash_handler_token=dummy_crash_token\n",
            " 0.4  0.8 195188      46 /usr/bin/python2 /usr/local/bin/jupyter-notebook --ip=\"172.28.0.2\" --port=9000 --FileContentsManager.root_dir=\"/\" --LargeFileManager.delete_to_trash=False --MappingKernelManager.root_dir=\"/content\"\n",
            " 0.2  0.4 345964       1 /tools/node/bin/node /datalab/web/app.js\n",
            " 0.1  0.2 129180      77 /usr/bin/python3 /usr/local/lib/python3.7/dist-packages/debugpy/adapter --for-server 43437 --host 127.0.0.1 --port 19360 --server-access-token 171c48cb2752717e92d9e487cfee290bb7110c9a61282d0e13f6e2874a25a7ae\n"
          ],
          "name": "stdout"
        }
      ]
    },
    {
      "cell_type": "markdown",
      "metadata": {
        "id": "S8Qj4WBS9_yI"
      },
      "source": [
        "## Some Imports"
      ]
    },
    {
      "cell_type": "code",
      "metadata": {
        "colab": {
          "base_uri": "https://localhost:8080/"
        },
        "id": "gDtE1oSv972w",
        "outputId": "e4f10793-90f9-42b7-c88d-b7d3a4fce7e3"
      },
      "source": [
        "import pandas as pd\n",
        "import numpy as np\n",
        "import matplotlib.pyplot as plt\n",
        "import seaborn as sns\n",
        "from sklearn.preprocessing import OneHotEncoder, StandardScaler\n",
        "from sklearn import metrics, model_selection\n",
        "from statistics import mean, median\n",
        "from time import perf_counter\n",
        "from sklearn.pipeline import Pipeline\n",
        "from imblearn.over_sampling import SMOTE\n",
        "from sklearn.model_selection import GridSearchCV, StratifiedKFold, cross_val_predict\n",
        "from sklearn.metrics import make_scorer\n",
        "from sklearn.ensemble import IsolationForest\n",
        "from sklearn.feature_selection import SelectPercentile, f_classif\n",
        "from sklearn.neighbors import KNeighborsClassifier\n",
        "from sklearn.tree import DecisionTreeClassifier\n",
        "from sklearn.naive_bayes import GaussianNB\n",
        "from sklearn.svm import SVC\n",
        "from sklearn.ensemble import RandomForestClassifier, AdaBoostClassifier, GradientBoostingClassifier, BaggingClassifier\n",
        "from sklearn.discriminant_analysis import LinearDiscriminantAnalysis\n",
        "from sklearn.linear_model import LogisticRegression, PassiveAggressiveClassifier, Perceptron, RidgeClassifier, SGDClassifier\n",
        "from sklearn.neural_network import MLPClassifier\n",
        "from sklearn.discriminant_analysis import QuadraticDiscriminantAnalysis\n",
        "from sklearn.gaussian_process import GaussianProcessClassifier\n",
        "from sklearn.neighbors import NearestCentroid\n",
        "from sklearn.metrics import make_scorer\n",
        "from sklearn.ensemble import RandomForestClassifier\n",
        "import random\n",
        "from sklearn.preprocessing import MinMaxScaler\n",
        "from sklearn.decomposition import PCA\n",
        "from sklearn.tree import DecisionTreeClassifier\n",
        "from sklearn.svm import SVC\n",
        "from sklearn import model_selection\n",
        "from sklearn import linear_model\n",
        "from sklearn.feature_selection import RFECV\n",
        "from sklearn.feature_selection import SelectFromModel\n",
        "from imblearn.under_sampling import RandomUnderSampler\n",
        "from imblearn.over_sampling import RandomOverSampler\n",
        "from sklearn.svm import LinearSVC\n",
        "from sklearn.feature_selection import SelectFwe, chi2, f_classif\n",
        "from sklearn.feature_selection import VarianceThreshold\n",
        "from sklearn.ensemble import ExtraTreesClassifier\n",
        "from sklearn.metrics import accuracy_score"
      ],
      "execution_count": 3,
      "outputs": [
        {
          "output_type": "stream",
          "text": [
            "/usr/local/lib/python3.7/dist-packages/sklearn/externals/six.py:31: FutureWarning: The module is deprecated in version 0.21 and will be removed in version 0.23 since we've dropped support for Python 2.7. Please rely on the official version of six (https://pypi.org/project/six/).\n",
            "  \"(https://pypi.org/project/six/).\", FutureWarning)\n",
            "/usr/local/lib/python3.7/dist-packages/sklearn/utils/deprecation.py:144: FutureWarning: The sklearn.neighbors.base module is  deprecated in version 0.22 and will be removed in version 0.24. The corresponding classes / functions should instead be imported from sklearn.neighbors. Anything that cannot be imported from sklearn.neighbors is now part of the private API.\n",
            "  warnings.warn(message, FutureWarning)\n"
          ],
          "name": "stderr"
        }
      ]
    },
    {
      "cell_type": "markdown",
      "metadata": {
        "id": "1HhKgZdLnDXe"
      },
      "source": [
        "#### Setup logging"
      ]
    },
    {
      "cell_type": "code",
      "metadata": {
        "id": "g-qJFYSyXipf"
      },
      "source": [
        "import tensorflow as tf\n",
        "from keras.utils import np_utils\n",
        "import numpy as np\n",
        "import logging\n",
        "import sys\n",
        "import random\n",
        "import matplotlib.pyplot as plt\n",
        "import os\n",
        "from google.colab import drive\n",
        "import shutil\n",
        "import zipfile\n",
        "import h5py\n",
        "import gc\n",
        "import IPython\n",
        "\n",
        "np.random.seed(1)\n",
        "random.seed(1)\n",
        "tf.random.set_seed(1)\n",
        "\n",
        "root = logging.getLogger()\n",
        "root.setLevel(logging.INFO)\n",
        "\n",
        "handler = logging.StreamHandler(sys.stdout)\n",
        "handler.setLevel(logging.DEBUG)\n",
        "formatter = logging.Formatter('%(asctime)s - %(name)s - %(levelname)s - %(message)s')\n",
        "handler.setFormatter(formatter)\n",
        "root.addHandler(handler)\n",
        "\n",
        "random.seed(5)\n",
        "tf.random.set_seed(5)\n",
        "np.random.seed(5)"
      ],
      "execution_count": 4,
      "outputs": []
    },
    {
      "cell_type": "markdown",
      "metadata": {
        "id": "m5dT_-3nTqYe"
      },
      "source": [
        "#### Mount Google Drive And Copy Files"
      ]
    },
    {
      "cell_type": "code",
      "metadata": {
        "colab": {
          "base_uri": "https://localhost:8080/"
        },
        "id": "OrZWOv9fTsF2",
        "outputId": "e57e7967-ff27-47b9-ea1a-489ccfcd20e9"
      },
      "source": [
        "drive.mount('/content/gdrive')\n",
        "\n",
        "if (os.path.exists(\"/root/imagedata\")):\n",
        "    ret = shutil.rmtree(\"/root/imagedata\")\n",
        "os.mkdir(\"/root/imagedata\")\n",
        "shutil.copyfile( \\\n",
        "    \"/content/gdrive/MyDrive/DeepLearningAssignment2/earth_data.zip\",\n",
        "    \"/root/imagedata/earth_data.zip\")\n",
        "\n",
        "!cd /root/imagedata && unzip earth_data.zip && rm -f earth_data.zip"
      ],
      "execution_count": 4,
      "outputs": [
        {
          "output_type": "stream",
          "text": [
            "Mounted at /content/gdrive\n",
            "Archive:  earth_data.zip\n",
            "  inflating: earth_data.h5           \n"
          ],
          "name": "stdout"
        }
      ]
    },
    {
      "cell_type": "markdown",
      "metadata": {
        "id": "9hK1gQ5CV1i-"
      },
      "source": [
        "## Code to plot graphs and remember histories"
      ]
    },
    {
      "cell_type": "code",
      "metadata": {
        "id": "Qy4Y9ACqfea7"
      },
      "source": [
        "class Entry:\n",
        "    def __init__(self, loss, val_loss, accuracy, val_accuracy, best_accuracy, best_loss):\n",
        "        self.loss = loss\n",
        "        self.val_loss = val_loss\n",
        "        self.accuracy = accuracy\n",
        "        self.val_accuracy = val_accuracy\n",
        "        self.best_accuracy = best_accuracy\n",
        "        self.best_loss = best_loss\n",
        "\n",
        "class Plot:\n",
        "    def __init__(self):\n",
        "        self.history = {}\n",
        "        self.colors = ['b', 'g', 'r', 'c', 'm', 'y', 'k', 'tab:blue', \\\n",
        "                       'tab:orange', 'tab:green', 'tab:red', 'tab:purple', \\\n",
        "                       'tab:brown', 'tab:pink', 'tab:olive', 'tab:cyan']\n",
        "\n",
        "    def plot_history(self, history, N_EPOCHS, name, show=True):\n",
        "        if show:\n",
        "            N_EPOCHS = len(history.history[\"loss\"])\n",
        "            plt.rcParams[\"figure.figsize\"] = (20, 10)\n",
        "            plt.xticks(np.arange(0, N_EPOCHS+1, 1.0))\n",
        "            plt.plot(np.arange(0, N_EPOCHS), history.history[\"loss\"], label=\"train loss\", color='blue', linestyle='solid')\n",
        "            plt.plot(np.arange(0, N_EPOCHS), history.history[\"val_loss\"], label=\"val loss\", color='blue', linestyle='dashdot')\n",
        "            plt.plot(np.arange(0, N_EPOCHS), history.history[\"accuracy\"], label=\"train acc\", color='red', linestyle='solid')\n",
        "            plt.plot(np.arange(0, N_EPOCHS), history.history[\"val_accuracy\"], label=\"val acc\", color='red', linestyle='dashdot')\n",
        "            plt.legend()\n",
        "            plt.show()\n",
        "        best_val_acc = max(history.history['val_accuracy'])\n",
        "        index_best_val_accuracy = history.history['val_accuracy'].index(best_val_acc)\n",
        "        best_val_loss = min(history.history['val_loss'])\n",
        "        index_best_val_loss = history.history['val_loss'].index(best_val_loss)\n",
        "        if show:\n",
        "            print(f\"Best validation accuracy: {best_val_acc}, epoch = {index_best_val_accuracy}\")\n",
        "            print(f\"Best validation loss: {best_val_loss}, epoch = {index_best_val_loss}\")\n",
        "        entry = Entry(\\\n",
        "                      loss=history.history[\"loss\"],\\\n",
        "                      val_loss=history.history[\"val_loss\"],\\\n",
        "                      accuracy=history.history[\"accuracy\"],\\\n",
        "                      val_accuracy=history.history[\"val_accuracy\"],\\\n",
        "                      best_accuracy=best_val_acc,\n",
        "                      best_loss=best_val_loss)\n",
        "        self.history[name] = entry\n",
        "        gc.collect()\n",
        "\n",
        "    def superplot(self):\n",
        "        i = 0\n",
        "        plt.rcParams[\"figure.figsize\"] = [30, 10]\n",
        "        fig, ax = plt.subplots(1, 2)\n",
        "        def innerplot(self, ax, arr, text, linest):\n",
        "            ax.plot(np.arange(0, len(arr)), arr, label=text, color=self.colors[i], linestyle=linest)\n",
        "        for name, entry in self.history.items():\n",
        "            innerplot(self, ax[0], entry.loss, f\"{name}-loss\", \"solid\")\n",
        "            innerplot(self, ax[0], entry.val_loss, f\"{name}-val-loss\", \"dashdot\")\n",
        "            innerplot(self, ax[1], entry.accuracy, f\"{name}-accuracy\", \"solid\")\n",
        "            innerplot(self, ax[1], entry.val_accuracy, f\"{name}-val-accuracy\", \"dashdot\")\n",
        "            i += 1\n",
        "        ax[0].legend()\n",
        "        ax[1].legend()\n",
        "        plt.show()\n",
        "\n"
      ],
      "execution_count": 5,
      "outputs": []
    },
    {
      "cell_type": "markdown",
      "metadata": {
        "id": "ZF7YJVg4Z8j3"
      },
      "source": [
        "## Extract train and test instances"
      ]
    },
    {
      "cell_type": "code",
      "metadata": {
        "colab": {
          "base_uri": "https://localhost:8080/"
        },
        "id": "opVq7JewaAGA",
        "outputId": "2b0f8a80-e4b1-4fbb-a112-e832fe0735b7"
      },
      "source": [
        "def loadDataH5():\n",
        "    with h5py.File('/root/imagedata/earth_data.h5','r') as hf:\n",
        "        trainX = np.array(hf.get('trainX'))\n",
        "        trainY = np.array(hf.get('trainY'))\n",
        "        valX = np.array(hf.get('valX'))\n",
        "        valY = np.array(hf.get('valY'))\n",
        "        print (trainX.shape,trainY.shape)\n",
        "        print (valX.shape,valY.shape)\n",
        "        return trainX, trainY, valX, valY\n",
        "\n",
        "trainX, trainY, valX, valY = loadDataH5()\n",
        "trainX = trainX / 255.0\n",
        "valX = valX / 255.0"
      ],
      "execution_count": 6,
      "outputs": [
        {
          "output_type": "stream",
          "text": [
            "(19200, 64, 64, 3) (19200,)\n",
            "(4800, 64, 64, 3) (4800,)\n"
          ],
          "name": "stdout"
        }
      ]
    },
    {
      "cell_type": "markdown",
      "metadata": {
        "id": "ewCcmX_SWH4W"
      },
      "source": [
        "## Callbacks"
      ]
    },
    {
      "cell_type": "code",
      "metadata": {
        "id": "cLKhKGMRWNfT"
      },
      "source": [
        "def decay_after_runs(N):\n",
        "    NRUNS = N\n",
        "    # We're sneaking this in, since this will be called at every epoch\n",
        "    # it also gives us a good way to force calls to gc() within the fit function\n",
        "    gc.collect()\n",
        "    def learning_rate_scheduler(epoch, lr):\n",
        "        if NRUNS < 0 or epoch < NRUNS:\n",
        "            return lr\n",
        "        else:\n",
        "            print(f\"Learning Rate: {lr} --> {lr * tf.math.exp(-1.0)}\")\n",
        "            return lr * tf.math.exp(-0.1)\n",
        "    return learning_rate_scheduler\n",
        "lr_callback = tf.keras.callbacks.LearningRateScheduler(decay_after_runs(20))\n",
        "\n",
        "early_stopping = tf.keras.callbacks.EarlyStopping(\\\n",
        "                                                  monitor='val_loss',\\\n",
        "                                                  patience=3,\n",
        "                                                  verbose=1,\n",
        "                                                  mode='auto')\n",
        "early_stopping2 = tf.keras.callbacks.EarlyStopping(\\\n",
        "                                                  monitor='val_loss',\\\n",
        "                                                  patience=10,\n",
        "                                                  verbose=1,\n",
        "                                                  mode='auto')\n",
        "\n",
        "\n",
        "reduce_lr = tf.keras.callbacks.ReduceLROnPlateau(\\\n",
        "                                                 monitor='val_loss',\\\n",
        "                                                 factor=0.5,\\\n",
        "                                                 patience=3,\\\n",
        "                                                 min_lr=0.001)\n",
        "\n",
        "term_on_nan = tf.keras.callbacks.TerminateOnNaN()\n",
        "\n",
        "DRIVE_FOLDER = \"/content/gdrive/MyDrive/DeepLearningAssignment2\"\n",
        "\n",
        "def get_checkpoint_filepath(name):\n",
        "    return f\"{DRIVE_FOLDER}/ckp-{name}\"\n",
        "    \n",
        "def get_checkpoint_callback(name):\n",
        "    checkpoint_filepath = f\"{DRIVE_FOLDER}/ckp-{name}\"\n",
        "    model_checkpoint_callback = tf.keras.callbacks.ModelCheckpoint(\n",
        "        filepath=checkpoint_filepath,\n",
        "        save_weights_only=True,\n",
        "        monitor='val_accuracy',\n",
        "        mode='max',\n",
        "        save_best_only=True)\n",
        "    return model_checkpoint_callback\n",
        "\n",
        "\n",
        "def get_callbacks_decay_after(N, name=None):\n",
        "    if N == -2:\n",
        "        callback_array = [\\\n",
        "                        tf.keras.callbacks.LearningRateScheduler(\\\n",
        "                                                    decay_after_runs(-1)),\n",
        "                        early_stopping2,\n",
        "                        term_on_nan,\n",
        "                        ]\n",
        "    else:\n",
        "        callback_array = [\\\n",
        "                        tf.keras.callbacks.LearningRateScheduler(\\\n",
        "                                                    decay_after_runs(N)),\n",
        "                        early_stopping,\n",
        "                        term_on_nan,\n",
        "                        ]\n",
        "    if N > 0:\n",
        "        callback_array.append(reduce_lr)\n",
        "    if None != name:\n",
        "        callback_array.append(get_checkpoint_callback(name))\n",
        "    return callback_array"
      ],
      "execution_count": 13,
      "outputs": []
    },
    {
      "cell_type": "markdown",
      "metadata": {
        "id": "LVwezZ7dkTt_"
      },
      "source": [
        "## 1. Load the VGG Model\n"
      ]
    },
    {
      "cell_type": "code",
      "metadata": {
        "colab": {
          "base_uri": "https://localhost:8080/"
        },
        "id": "rtj-7DZA6iCn",
        "outputId": "423285fe-c78d-445f-abe3-1a889c210fb1"
      },
      "source": [
        "vgg = tf.keras.applications.VGG16(\\\n",
        "                                  include_top=False,\\\n",
        "                                  weights='imagenet',\\\n",
        "                                  input_shape=trainX[0].shape)"
      ],
      "execution_count": null,
      "outputs": [
        {
          "output_type": "stream",
          "text": [
            "Downloading data from https://storage.googleapis.com/tensorflow/keras-applications/vgg16/vgg16_weights_tf_dim_ordering_tf_kernels_notop.h5\n",
            "58892288/58889256 [==============================] - 0s 0us/step\n"
          ],
          "name": "stdout"
        }
      ]
    },
    {
      "cell_type": "code",
      "metadata": {
        "colab": {
          "base_uri": "https://localhost:8080/"
        },
        "id": "Hr-DKVFt7mQn",
        "outputId": "04159359-55bc-4abb-d92c-62e9577f72c0"
      },
      "source": [
        "print(vgg.summary())"
      ],
      "execution_count": null,
      "outputs": [
        {
          "output_type": "stream",
          "text": [
            "Model: \"vgg16\"\n",
            "_________________________________________________________________\n",
            "Layer (type)                 Output Shape              Param #   \n",
            "=================================================================\n",
            "input_1 (InputLayer)         [(None, 64, 64, 3)]       0         \n",
            "_________________________________________________________________\n",
            "block1_conv1 (Conv2D)        (None, 64, 64, 64)        1792      \n",
            "_________________________________________________________________\n",
            "block1_conv2 (Conv2D)        (None, 64, 64, 64)        36928     \n",
            "_________________________________________________________________\n",
            "block1_pool (MaxPooling2D)   (None, 32, 32, 64)        0         \n",
            "_________________________________________________________________\n",
            "block2_conv1 (Conv2D)        (None, 32, 32, 128)       73856     \n",
            "_________________________________________________________________\n",
            "block2_conv2 (Conv2D)        (None, 32, 32, 128)       147584    \n",
            "_________________________________________________________________\n",
            "block2_pool (MaxPooling2D)   (None, 16, 16, 128)       0         \n",
            "_________________________________________________________________\n",
            "block3_conv1 (Conv2D)        (None, 16, 16, 256)       295168    \n",
            "_________________________________________________________________\n",
            "block3_conv2 (Conv2D)        (None, 16, 16, 256)       590080    \n",
            "_________________________________________________________________\n",
            "block3_conv3 (Conv2D)        (None, 16, 16, 256)       590080    \n",
            "_________________________________________________________________\n",
            "block3_pool (MaxPooling2D)   (None, 8, 8, 256)         0         \n",
            "_________________________________________________________________\n",
            "block4_conv1 (Conv2D)        (None, 8, 8, 512)         1180160   \n",
            "_________________________________________________________________\n",
            "block4_conv2 (Conv2D)        (None, 8, 8, 512)         2359808   \n",
            "_________________________________________________________________\n",
            "block4_conv3 (Conv2D)        (None, 8, 8, 512)         2359808   \n",
            "_________________________________________________________________\n",
            "block4_pool (MaxPooling2D)   (None, 4, 4, 512)         0         \n",
            "_________________________________________________________________\n",
            "block5_conv1 (Conv2D)        (None, 4, 4, 512)         2359808   \n",
            "_________________________________________________________________\n",
            "block5_conv2 (Conv2D)        (None, 4, 4, 512)         2359808   \n",
            "_________________________________________________________________\n",
            "block5_conv3 (Conv2D)        (None, 4, 4, 512)         2359808   \n",
            "_________________________________________________________________\n",
            "block5_pool (MaxPooling2D)   (None, 2, 2, 512)         0         \n",
            "=================================================================\n",
            "Total params: 14,714,688\n",
            "Trainable params: 14,714,688\n",
            "Non-trainable params: 0\n",
            "_________________________________________________________________\n",
            "None\n"
          ],
          "name": "stdout"
        }
      ]
    },
    {
      "cell_type": "code",
      "metadata": {
        "id": "k1TUSHEy8piD"
      },
      "source": [
        "import pandas as pd\n",
        "import seaborn as sns\n",
        "gc.collect()\n",
        "\n",
        "from sklearn.pipeline import Pipeline\n",
        "import time\n",
        "\n",
        "def feature_extraction_test(\\\n",
        "                            model_name:str,\\\n",
        "                            model,\\\n",
        "                            trainX,\\\n",
        "                            trainY,\\\n",
        "                            valX,\\\n",
        "                            valY\n",
        "                            ):\n",
        "    def secondary_classification(\\\n",
        "                                 model,\\\n",
        "                                 trainX,\\\n",
        "                                 trainY,\\\n",
        "                                 valX,\\\n",
        "                                 valY):\n",
        "        model.fit(trainX, trainY)\n",
        "        y_pred = model.predict(valX)\n",
        "        return accuracy_score(valY, y_pred)\n",
        "\n",
        "    basic_models = [\n",
        "        ('DecisionTreeClassifier', lambda: Pipeline([('pca', PCA(n_components=50),), ('dt', DecisionTreeClassifier(random_state=1),)])),\n",
        "        ('KNeighborsClassifier', lambda: Pipeline([('pca', PCA(n_components=100),), ('knn', KNeighborsClassifier(n_jobs=-1),)])),\n",
        "        ('NearestCentroid', lambda: Pipeline([('pca', PCA(n_components=100),), ('nearestCentroid', NearestCentroid(),)])),\n",
        "        ('NaiveBayes', lambda: GaussianNB()),\n",
        "        ('SVC', lambda: Pipeline([('pca', PCA(n_components=200),), ('svc', SVC(random_state=1),)])),\n",
        "        ('Random Forest', lambda: RandomForestClassifier(random_state=1, n_jobs=-1)),\n",
        "        #('Gradient Boost', lambda: Pipeline([('pca', PCA(n_components=25),), ('gb',GradientBoostingClassifier(),)])),\n",
        "        ('LDA', lambda: Pipeline([('pca', PCA(n_components=20),), ('lda', LinearDiscriminantAnalysis(),)])),\n",
        "        ('QDA', lambda: Pipeline([('pca', PCA(n_components=20),), ('qda',QuadraticDiscriminantAnalysis(),)])),\n",
        "        ('Logistic Regression', lambda: LogisticRegression(random_state=1, n_jobs=-1)),\n",
        "        ('Ridge', lambda: Pipeline([('pca', PCA(n_components=50),), ('rc',RidgeClassifier(random_state=1),)])),\n",
        "        ('Bagging', lambda: Pipeline([('pca', PCA(n_components=100),), ('bg', BaggingClassifier(random_state=1, n_jobs=-1),)])),\n",
        "        #('SGD Classifier', lambda: Pipeline([('pca', PCA(n_components=100),), ('sgd', SGDClassifier(random_state=1),)])),\n",
        "        ('SGD Classifier', lambda: SGDClassifier(random_state=1, n_jobs=-1, max_iter=2000)),\n",
        "        ('Passive Aggressive', lambda: Pipeline([('pca', PCA(n_components=50),),('pac', PassiveAggressiveClassifier(random_state=1, n_jobs=-1),)])),\n",
        "    ]\n",
        "\n",
        "    m_names = []\n",
        "    m_acc = []\n",
        "    t_trainX = model.predict(trainX)\n",
        "    t_valX = model.predict(valX)\n",
        "    t_trainX = t_trainX.reshape(t_trainX.shape[0], -1)\n",
        "    t_valX = t_valX.reshape(t_valX.shape[0], -1)\n",
        "    scaler = StandardScaler().fit(t_trainX)\n",
        "    t_trainX = scaler.transform(t_trainX)\n",
        "    t_valX = scaler.transform(t_valX)\n",
        "\n",
        "    for (n, m) in basic_models:\n",
        "        gc.collect()\n",
        "        print(f\"Training model {n}\")\n",
        "        t1 = time.perf_counter()\n",
        "        accuracy = secondary_classification(m(),\\\n",
        "                                            t_trainX,\\\n",
        "                                            trainY,\\\n",
        "                                            t_valX,\\\n",
        "                                            valY)\n",
        "        t2 = time.perf_counter()\n",
        "        print(f\"Accuracy = {accuracy:0.3f}, \\t\\t\\t\\tTime taken = {(t2 - t1):2.2f}s\")\n",
        "        m_names.append(n)\n",
        "        m_acc.append(accuracy)\n",
        "        \n",
        "    df = pd.DataFrame({\"Model\": pd.Series(m_names), \"accuracy\": pd.Series(m_acc)})\n",
        "    p = sns.barplot(y='Model', x='accuracy', data=df, orient='h')\n",
        "    p.set_title(model_name)\n",
        "    plt.show()\n",
        "    return m_names, m_acc\n",
        "\n",
        "    \n"
      ],
      "execution_count": null,
      "outputs": []
    },
    {
      "cell_type": "code",
      "metadata": {
        "id": "bWp09T0sNWBs",
        "colab": {
          "base_uri": "https://localhost:8080/",
          "height": 760
        },
        "outputId": "1666ba61-19a8-481d-d378-0e1d3eb965bf"
      },
      "source": [
        "vgg16 = tf.keras.applications.VGG16(\\\n",
        "                                  include_top=False,\\\n",
        "                                  weights='imagenet',\\\n",
        "                                  input_shape=trainX[0].shape)\n",
        "vg16_names, vgg16_acc = feature_extraction_test(\"VGG16\", vgg16, trainX, trainY, valX, valY)\n"
      ],
      "execution_count": null,
      "outputs": [
        {
          "output_type": "stream",
          "text": [
            "Training model DecisionTreeClassifier\n",
            "Accuracy = 0.643, \t\t\t\tTime taken = 4.84s\n",
            "Training model KNeighborsClassifier\n",
            "Accuracy = 0.777, \t\t\t\tTime taken = 15.46s\n",
            "Training model NearestCentroid\n",
            "Accuracy = 0.653, \t\t\t\tTime taken = 4.15s\n",
            "Training model NaiveBayes\n",
            "Accuracy = 0.502, \t\t\t\tTime taken = 0.69s\n",
            "Training model SVC\n",
            "Accuracy = 0.840, \t\t\t\tTime taken = 61.29s\n",
            "Training model Random Forest\n",
            "Accuracy = 0.817, \t\t\t\tTime taken = 23.25s\n",
            "Training model LDA\n",
            "Accuracy = 0.700, \t\t\t\tTime taken = 2.60s\n",
            "Training model QDA\n",
            "Accuracy = 0.677, \t\t\t\tTime taken = 2.63s\n",
            "Training model Logistic Regression\n",
            "Accuracy = 0.851, \t\t\t\tTime taken = 32.56s\n",
            "Training model Ridge\n",
            "Accuracy = 0.732, \t\t\t\tTime taken = 3.12s\n",
            "Training model Bagging\n",
            "Accuracy = 0.758, \t\t\t\tTime taken = 19.84s\n",
            "Training model SGD Classifier\n",
            "Accuracy = 0.855, \t\t\t\tTime taken = 156.50s\n",
            "Training model Passive Aggressive\n",
            "Accuracy = 0.751, \t\t\t\tTime taken = 3.38s\n"
          ],
          "name": "stdout"
        },
        {
          "output_type": "display_data",
          "data": {
            "image/png": "[encoded data removed]",
            "text/plain": [
              "<Figure size 432x288 with 1 Axes>"
            ]
          },
          "metadata": {
            "tags": [],
            "needs_background": "light"
          }
        }
      ]
    },
    {
      "cell_type": "code",
      "metadata": {
        "colab": {
          "base_uri": "https://localhost:8080/",
          "height": 795
        },
        "id": "sfVB5jkvMBjQ",
        "outputId": "a760f76f-851e-4025-e68d-e1a6dffff69b"
      },
      "source": [
        "gc.collect()\n",
        "vgg19 = tf.keras.applications.VGG19(\\\n",
        "                                    include_top=False,\\\n",
        "                                    weights='imagenet',\\\n",
        "                                    input_shape=trainX[0].shape)\n",
        "vgg19_names, vgg19_acc = feature_extraction_test(\"VGG19\",\\\n",
        "                                                 vgg19,\\\n",
        "                                                 trainX,\\\n",
        "                                                 trainY,\\\n",
        "                                                 valX,\\\n",
        "                                                 valY)"
      ],
      "execution_count": null,
      "outputs": [
        {
          "output_type": "stream",
          "text": [
            "Downloading data from https://storage.googleapis.com/tensorflow/keras-applications/vgg19/vgg19_weights_tf_dim_ordering_tf_kernels_notop.h5\n",
            "80142336/80134624 [==============================] - 0s 0us/step\n",
            "Training model DecisionTreeClassifier\n",
            "Accuracy = 0.611, \t\t\t\tTime taken = 4.77s\n",
            "Training model KNeighborsClassifier\n",
            "Accuracy = 0.741, \t\t\t\tTime taken = 13.39s\n",
            "Training model NearestCentroid\n",
            "Accuracy = 0.617, \t\t\t\tTime taken = 4.21s\n",
            "Training model NaiveBayes\n",
            "Accuracy = 0.470, \t\t\t\tTime taken = 0.81s\n",
            "Training model SVC\n",
            "Accuracy = 0.804, \t\t\t\tTime taken = 65.18s\n",
            "Training model Random Forest\n",
            "Accuracy = 0.776, \t\t\t\tTime taken = 26.67s\n",
            "Training model LDA\n",
            "Accuracy = 0.659, \t\t\t\tTime taken = 2.72s\n",
            "Training model QDA\n",
            "Accuracy = 0.633, \t\t\t\tTime taken = 2.62s\n",
            "Training model Logistic Regression\n",
            "Accuracy = 0.816, \t\t\t\tTime taken = 31.89s\n",
            "Training model Ridge\n",
            "Accuracy = 0.689, \t\t\t\tTime taken = 3.15s\n",
            "Training model Bagging\n",
            "Accuracy = 0.719, \t\t\t\tTime taken = 19.96s\n",
            "Training model SGD Classifier\n",
            "Accuracy = 0.816, \t\t\t\tTime taken = 191.48s\n",
            "Training model Passive Aggressive\n",
            "Accuracy = 0.689, \t\t\t\tTime taken = 3.41s\n"
          ],
          "name": "stdout"
        },
        {
          "output_type": "display_data",
          "data": {
            "image/png": "[encoded data removed]",
            "text/plain": [
              "<Figure size 432x288 with 1 Axes>"
            ]
          },
          "metadata": {
            "tags": [],
            "needs_background": "light"
          }
        }
      ]
    },
    {
      "cell_type": "code",
      "metadata": {
        "colab": {
          "base_uri": "https://localhost:8080/",
          "height": 795
        },
        "id": "PeM50mgyAq64",
        "outputId": "296ebcab-bc63-445a-bae1-aecc78c5a3db"
      },
      "source": [
        "gc.collect()\n",
        "resnet50 = tf.keras.applications.ResNet50V2(\\\n",
        "                                          include_top=False,\\\n",
        "                                          weights='imagenet',\\\n",
        "                                          input_shape=trainX[0].shape)\n",
        "                               \n",
        "resnet50_names, resnet50_acc = feature_extraction_test(\\\n",
        "                                                       \"Resnet50\",\\\n",
        "                                                       resnet50,\\\n",
        "                                                       trainX,\\\n",
        "                                                       trainY,\\\n",
        "                                                       valX,\\\n",
        "                                                       valY)"
      ],
      "execution_count": null,
      "outputs": [
        {
          "output_type": "stream",
          "text": [
            "Downloading data from https://storage.googleapis.com/tensorflow/keras-applications/resnet/resnet50v2_weights_tf_dim_ordering_tf_kernels_notop.h5\n",
            "94674944/94668760 [==============================] - 1s 0us/step\n",
            "Training model DecisionTreeClassifier\n",
            "Accuracy = 0.564, \t\t\t\tTime taken = 11.36s\n",
            "Training model KNeighborsClassifier\n",
            "Accuracy = 0.700, \t\t\t\tTime taken = 28.20s\n",
            "Training model NearestCentroid\n",
            "Accuracy = 0.639, \t\t\t\tTime taken = 13.51s\n",
            "Training model NaiveBayes\n",
            "Accuracy = 0.510, \t\t\t\tTime taken = 2.75s\n",
            "Training model SVC\n",
            "Accuracy = 0.801, \t\t\t\tTime taken = 86.28s\n",
            "Training model Random Forest\n",
            "Accuracy = 0.755, \t\t\t\tTime taken = 30.38s\n",
            "Training model LDA\n",
            "Accuracy = 0.625, \t\t\t\tTime taken = 7.80s\n",
            "Training model QDA\n",
            "Accuracy = 0.554, \t\t\t\tTime taken = 7.78s\n",
            "Training model Logistic Regression\n",
            "Accuracy = 0.814, \t\t\t\tTime taken = 321.76s\n",
            "Training model Ridge\n",
            "Accuracy = 0.704, \t\t\t\tTime taken = 9.98s\n",
            "Training model Bagging\n",
            "Accuracy = 0.662, \t\t\t\tTime taken = 29.56s\n",
            "Training model SGD Classifier\n",
            "Accuracy = 0.820, \t\t\t\tTime taken = 343.09s\n",
            "Training model Passive Aggressive\n",
            "Accuracy = 0.677, \t\t\t\tTime taken = 9.96s\n"
          ],
          "name": "stdout"
        },
        {
          "output_type": "display_data",
          "data": {
            "image/png": "[encoded data removed]",
            "text/plain": [
              "<Figure size 432x288 with 1 Axes>"
            ]
          },
          "metadata": {
            "tags": [],
            "needs_background": "light"
          }
        }
      ]
    },
    {
      "cell_type": "code",
      "metadata": {
        "colab": {
          "base_uri": "https://localhost:8080/",
          "height": 815
        },
        "id": "5Mri15DhS75H",
        "outputId": "0f40119b-a04d-458b-c3d1-622fa38fd9e0"
      },
      "source": [
        "gc.collect()\n",
        "densenet = tf.keras.applications.DenseNet201(\\\n",
        "                                  include_top=False,\\\n",
        "                                  input_shape=trainX[0].shape)\n",
        "densenet_names, densenet_acc = feature_extraction_test(\\\n",
        "                                                       \"Densenet201\",\\\n",
        "                                                       densenet,\\\n",
        "                                                       trainX,\\\n",
        "                                                       trainY,\\\n",
        "                                                       valX,\\\n",
        "                                                       valY)"
      ],
      "execution_count": null,
      "outputs": [
        {
          "output_type": "stream",
          "text": [
            "Downloading data from https://storage.googleapis.com/tensorflow/keras-applications/densenet/densenet201_weights_tf_dim_ordering_tf_kernels_notop.h5\n",
            "74842112/74836368 [==============================] - 0s 0us/step\n",
            "Training model DecisionTreeClassifier\n",
            "Accuracy = 0.690, \t\t\t\tTime taken = 10.43s\n",
            "Training model KNeighborsClassifier\n",
            "Accuracy = 0.854, \t\t\t\tTime taken = 22.79s\n",
            "Training model NearestCentroid\n",
            "Accuracy = 0.734, \t\t\t\tTime taken = 11.90s\n",
            "Training model NaiveBayes\n",
            "Accuracy = 0.710, \t\t\t\tTime taken = 3.18s\n",
            "Training model SVC\n",
            "Accuracy = 0.922, \t\t\t\tTime taken = 60.97s\n",
            "Training model Random Forest\n",
            "Accuracy = 0.837, \t\t\t\tTime taken = 90.21s\n",
            "Training model LDA\n",
            "Accuracy = 0.792, \t\t\t\tTime taken = 6.95s\n",
            "Training model QDA\n",
            "Accuracy = 0.798, \t\t\t\tTime taken = 6.77s\n",
            "Training model Logistic Regression\n",
            "Accuracy = 0.927, \t\t\t\tTime taken = 125.69s\n",
            "Training model Ridge\n",
            "Accuracy = 0.855, \t\t\t\tTime taken = 9.00s\n",
            "Training model Bagging\n",
            "Accuracy = 0.784, \t\t\t\tTime taken = 30.34s\n",
            "Training model SGD Classifier\n",
            "Accuracy = 0.917, \t\t\t\tTime taken = 95.20s\n",
            "Training model Passive Aggressive\n",
            "Accuracy = 0.819, \t\t\t\tTime taken = 8.96s\n"
          ],
          "name": "stdout"
        },
        {
          "output_type": "display_data",
          "data": {
            "image/png": "[encoded data removed]",
            "text/plain": [
              "<Figure size 432x288 with 1 Axes>"
            ]
          },
          "metadata": {
            "tags": [],
            "needs_background": "light"
          }
        }
      ]
    },
    {
      "cell_type": "code",
      "metadata": {
        "colab": {
          "base_uri": "https://localhost:8080/",
          "height": 1000
        },
        "id": "nV96j3BU-pU2",
        "outputId": "3bc7a920-4b7f-436c-9698-c43c407ebf45"
      },
      "source": [
        "gc.collect()\n",
        "def compare_pretrained_models():\n",
        "    def pretty_print(x):\n",
        "        dfs = pd.DataFrame(x)\n",
        "        pd.set_option('display.max_columns', None)\n",
        "        print(dfs)\n",
        "    classifier_names = densenet_names\n",
        "    models = [vgg16, vgg19, resnet50, densenet]\n",
        "    accuracies = [vgg16_acc, vgg19_acc, resnet50_acc, densenet_acc]\n",
        "    pretrained=['VGG16', 'VGG19', 'ResNet50', 'DenseNet']\n",
        "    data = {}\n",
        "    data[\"Pretrained Model\"] = pretrained\n",
        "    for i, name in enumerate(classifier_names):\n",
        "        arr = []\n",
        "        for acc_arr in accuracies:\n",
        "            arr.append(acc_arr[i])\n",
        "        data[name] = arr\n",
        "    pretty_print(data)\n",
        "\n",
        "    parameters = [m.count_params() / (100_000_000) for m in models]\n",
        "    data[\"Trainable Params (100s of millions)\"] = parameters\n",
        "    dfs = pd.DataFrame(data)\n",
        "    dfs1 = pd.melt(dfs, id_vars=\"Pretrained Model\")\n",
        "    print(dfs1)\n",
        "    sns.set(rc={'figure.figsize':(20, 15,)})\n",
        "    p = sns.factorplot(hue=\"Pretrained Model\", x='value', y='variable', data=dfs1, kind='bar', size=10, orient='h')\n",
        "    plt.title('Comparison of various pre-trained models')\n",
        "    plt.show()\n",
        "\n",
        "\n",
        "compare_pretrained_models()"
      ],
      "execution_count": null,
      "outputs": [
        {
          "output_type": "stream",
          "text": [
            "  Pretrained Model  DecisionTreeClassifier  KNeighborsClassifier  \\\n",
            "0            VGG16                0.643125              0.777500   \n",
            "1            VGG19                0.611250              0.741042   \n",
            "2         ResNet50                0.563542              0.700208   \n",
            "3         DenseNet                0.690208              0.853542   \n",
            "\n",
            "   NearestCentroid  NaiveBayes       SVC  Random Forest       LDA       QDA  \\\n",
            "0         0.653333    0.502292  0.840208       0.816667  0.699792  0.677500   \n",
            "1         0.616667    0.470417  0.803750       0.775833  0.659375  0.633125   \n",
            "2         0.639375    0.509583  0.801250       0.755208  0.625000  0.554167   \n",
            "3         0.734375    0.710000  0.921667       0.836875  0.791875  0.797917   \n",
            "\n",
            "   Logistic Regression     Ridge   Bagging  SGD Classifier  Passive Aggressive  \n",
            "0             0.851458  0.732083  0.758333        0.855208            0.750625  \n",
            "1             0.816458  0.688750  0.719167        0.816250            0.688542  \n",
            "2             0.813750  0.704167  0.662500        0.820417            0.677083  \n",
            "3             0.927292  0.854583  0.783958        0.916875            0.818750  \n",
            "   Pretrained Model                             variable     value\n",
            "0             VGG16               DecisionTreeClassifier  0.643125\n",
            "1             VGG19               DecisionTreeClassifier  0.611250\n",
            "2          ResNet50               DecisionTreeClassifier  0.563542\n",
            "3          DenseNet               DecisionTreeClassifier  0.690208\n",
            "4             VGG16                 KNeighborsClassifier  0.777500\n",
            "5             VGG19                 KNeighborsClassifier  0.741042\n",
            "6          ResNet50                 KNeighborsClassifier  0.700208\n",
            "7          DenseNet                 KNeighborsClassifier  0.853542\n",
            "8             VGG16                      NearestCentroid  0.653333\n",
            "9             VGG19                      NearestCentroid  0.616667\n",
            "10         ResNet50                      NearestCentroid  0.639375\n",
            "11         DenseNet                      NearestCentroid  0.734375\n",
            "12            VGG16                           NaiveBayes  0.502292\n",
            "13            VGG19                           NaiveBayes  0.470417\n",
            "14         ResNet50                           NaiveBayes  0.509583\n",
            "15         DenseNet                           NaiveBayes  0.710000\n",
            "16            VGG16                                  SVC  0.840208\n",
            "17            VGG19                                  SVC  0.803750\n",
            "18         ResNet50                                  SVC  0.801250\n",
            "19         DenseNet                                  SVC  0.921667\n",
            "20            VGG16                        Random Forest  0.816667\n",
            "21            VGG19                        Random Forest  0.775833\n",
            "22         ResNet50                        Random Forest  0.755208\n",
            "23         DenseNet                        Random Forest  0.836875\n",
            "24            VGG16                                  LDA  0.699792\n",
            "25            VGG19                                  LDA  0.659375\n",
            "26         ResNet50                                  LDA  0.625000\n",
            "27         DenseNet                                  LDA  0.791875\n",
            "28            VGG16                                  QDA  0.677500\n",
            "29            VGG19                                  QDA  0.633125\n",
            "30         ResNet50                                  QDA  0.554167\n",
            "31         DenseNet                                  QDA  0.797917\n",
            "32            VGG16                  Logistic Regression  0.851458\n",
            "33            VGG19                  Logistic Regression  0.816458\n",
            "34         ResNet50                  Logistic Regression  0.813750\n",
            "35         DenseNet                  Logistic Regression  0.927292\n",
            "36            VGG16                                Ridge  0.732083\n",
            "37            VGG19                                Ridge  0.688750\n",
            "38         ResNet50                                Ridge  0.704167\n",
            "39         DenseNet                                Ridge  0.854583\n",
            "40            VGG16                              Bagging  0.758333\n",
            "41            VGG19                              Bagging  0.719167\n",
            "42         ResNet50                              Bagging  0.662500\n",
            "43         DenseNet                              Bagging  0.783958\n",
            "44            VGG16                       SGD Classifier  0.855208\n",
            "45            VGG19                       SGD Classifier  0.816250\n",
            "46         ResNet50                       SGD Classifier  0.820417\n",
            "47         DenseNet                       SGD Classifier  0.916875\n",
            "48            VGG16                   Passive Aggressive  0.750625\n",
            "49            VGG19                   Passive Aggressive  0.688542\n",
            "50         ResNet50                   Passive Aggressive  0.677083\n",
            "51         DenseNet                   Passive Aggressive  0.818750\n",
            "52            VGG16  Trainable Params (100s of millions)  0.147147\n",
            "53            VGG19  Trainable Params (100s of millions)  0.200244\n",
            "54         ResNet50  Trainable Params (100s of millions)  0.235648\n",
            "55         DenseNet  Trainable Params (100s of millions)  0.183220\n"
          ],
          "name": "stdout"
        },
        {
          "output_type": "stream",
          "text": [
            "/usr/local/lib/python3.7/dist-packages/seaborn/categorical.py:3714: UserWarning: The `factorplot` function has been renamed to `catplot`. The original name will be removed in a future release. Please update your code. Note that the default `kind` in `factorplot` (`'point'`) has changed `'strip'` in `catplot`.\n",
            "  warnings.warn(msg)\n",
            "/usr/local/lib/python3.7/dist-packages/seaborn/categorical.py:3720: UserWarning: The `size` parameter has been renamed to `height`; please update your code.\n",
            "  warnings.warn(msg, UserWarning)\n"
          ],
          "name": "stderr"
        },
        {
          "output_type": "display_data",
          "data": {
            "image/png": "[encoded data removed]",
            "text/plain": [
              "<Figure size 830.8x720 with 1 Axes>"
            ]
          },
          "metadata": {
            "tags": []
          }
        }
      ]
    },
    {
      "cell_type": "code",
      "metadata": {
        "id": "EfKkpk7Ya5va"
      },
      "source": [
        ""
      ],
      "execution_count": null,
      "outputs": []
    },
    {
      "cell_type": "markdown",
      "metadata": {
        "id": "VhZgSDjfvo4A"
      },
      "source": [
        "# Fine Tune"
      ]
    },
    {
      "cell_type": "code",
      "metadata": {
        "id": "NCbdFd3fvqwx"
      },
      "source": [
        "def combine_and_train_finetune(\\\n",
        "                               model1,\\\n",
        "                               model2,\\\n",
        "                               trainX,\\\n",
        "                               trainY,\\\n",
        "                               valX,\\\n",
        "                               valY,\\\n",
        "                               nepochs,\n",
        "                               layer_to_unfreeze):\n",
        "    combined = tf.keras.Sequential()\n",
        "    model1.trainable = False\n",
        "    combined.add(model1)\n",
        "    combined.add(model2)\n",
        "\n",
        "    logging.info(\"Phase 1 starting...\")\n",
        "    opt = tf.keras.optimizers.RMSprop(learning_rate=0.001)\n",
        "    combined.compile(optimizer=opt,\\\n",
        "                     loss='sparse_categorical_crossentropy',\\\n",
        "                     metrics=['accuracy'])\n",
        "    plot = Plot()\n",
        "    history = combined.fit(trainX, trainY, \\\n",
        "                    validation_data=(valX, valY),\\\n",
        "                    batch_size=32,\\\n",
        "                    epochs=nepochs,\\\n",
        "                    callbacks=get_callbacks_decay_after(-1, combined.name))\n",
        "    plot.plot_history(history, nepochs, \"combined\")\n",
        "    plt.show()\n",
        "    logging.info(\"OK.\")\n",
        "\n",
        "    logging.info(\"Phase 2 starting...\")\n",
        "    model1.trainable = True\n",
        "    trainableFlag = False\n",
        "    for layer in model1.layers:\n",
        "        if layer.name == layer_to_unfreeze:\n",
        "            trainableFlag = True\n",
        "        layer.trainable = trainableFlag\n",
        "    opt = tf.keras.optimizers.RMSprop(learning_rate=1.0e-5)\n",
        "    combined.compile(optimizer=opt,\\\n",
        "                     loss='sparse_categorical_crossentropy',\\\n",
        "                     metrics=['accuracy'])\n",
        "    history = combined.fit(trainX, trainY, \\\n",
        "                    validation_data=(valX, valY),\\\n",
        "                    batch_size=32,\\\n",
        "                    epochs=nepochs,\n",
        "                    callbacks=get_callbacks_decay_after(-1, combined.name))\n",
        "    logging.info(\"OK.\")\n",
        "\n",
        "    return combined\n",
        "\n",
        "   "
      ],
      "execution_count": 11,
      "outputs": []
    },
    {
      "cell_type": "code",
      "metadata": {
        "colab": {
          "base_uri": "https://localhost:8080/",
          "height": 1000
        },
        "id": "8ImwQD6awFpl",
        "outputId": "722ff6bd-bdec-4477-e687-d277688605b7"
      },
      "source": [
        "import IPython\n",
        "\n",
        "n_classes = len(np.unique(np.concatenate((trainY, valY))))\n",
        "class ShallowNet:\n",
        "    @staticmethod\n",
        "    def build(inshape, nlabels):\n",
        "        model = tf.keras.Sequential(name=\"BaseLineShallowNet\")\n",
        "        model.add(tf.keras.layers.Flatten())\n",
        "        model.add(tf.keras.layers.Dropout(rate=0.25))\n",
        "        model.add(tf.keras.layers.Dense(512))\n",
        "        model.add(tf.keras.layers.Dropout(rate=0.25))\n",
        "        model.add(tf.keras.layers.Dense(nlabels, activation='softmax'))\n",
        "        return model\n",
        "\n",
        "vgg16 = tf.keras.applications.VGG16(\\\n",
        "                                  include_top=False,\\\n",
        "                                  weights='imagenet',\\\n",
        "                                  input_shape=trainX[0].shape)\n",
        "vgg16.trainable = False\n",
        "print(vgg16.summary())\n",
        "\n",
        "myModel = ShallowNet.build(vgg16.output_shape, n_classes)\n",
        "\n",
        "combined_model = combine_and_train_finetune(vgg16, myModel, trainX, trainY, valX, valY, 25, 'block4_conv2')"
      ],
      "execution_count": 12,
      "outputs": [
        {
          "output_type": "stream",
          "text": [
            "Model: \"vgg16\"\n",
            "_________________________________________________________________\n",
            "Layer (type)                 Output Shape              Param #   \n",
            "=================================================================\n",
            "input_2 (InputLayer)         [(None, 64, 64, 3)]       0         \n",
            "_________________________________________________________________\n",
            "block1_conv1 (Conv2D)        (None, 64, 64, 64)        1792      \n",
            "_________________________________________________________________\n",
            "block1_conv2 (Conv2D)        (None, 64, 64, 64)        36928     \n",
            "_________________________________________________________________\n",
            "block1_pool (MaxPooling2D)   (None, 32, 32, 64)        0         \n",
            "_________________________________________________________________\n",
            "block2_conv1 (Conv2D)        (None, 32, 32, 128)       73856     \n",
            "_________________________________________________________________\n",
            "block2_conv2 (Conv2D)        (None, 32, 32, 128)       147584    \n",
            "_________________________________________________________________\n",
            "block2_pool (MaxPooling2D)   (None, 16, 16, 128)       0         \n",
            "_________________________________________________________________\n",
            "block3_conv1 (Conv2D)        (None, 16, 16, 256)       295168    \n",
            "_________________________________________________________________\n",
            "block3_conv2 (Conv2D)        (None, 16, 16, 256)       590080    \n",
            "_________________________________________________________________\n",
            "block3_conv3 (Conv2D)        (None, 16, 16, 256)       590080    \n",
            "_________________________________________________________________\n",
            "block3_pool (MaxPooling2D)   (None, 8, 8, 256)         0         \n",
            "_________________________________________________________________\n",
            "block4_conv1 (Conv2D)        (None, 8, 8, 512)         1180160   \n",
            "_________________________________________________________________\n",
            "block4_conv2 (Conv2D)        (None, 8, 8, 512)         2359808   \n",
            "_________________________________________________________________\n",
            "block4_conv3 (Conv2D)        (None, 8, 8, 512)         2359808   \n",
            "_________________________________________________________________\n",
            "block4_pool (MaxPooling2D)   (None, 4, 4, 512)         0         \n",
            "_________________________________________________________________\n",
            "block5_conv1 (Conv2D)        (None, 4, 4, 512)         2359808   \n",
            "_________________________________________________________________\n",
            "block5_conv2 (Conv2D)        (None, 4, 4, 512)         2359808   \n",
            "_________________________________________________________________\n",
            "block5_conv3 (Conv2D)        (None, 4, 4, 512)         2359808   \n",
            "_________________________________________________________________\n",
            "block5_pool (MaxPooling2D)   (None, 2, 2, 512)         0         \n",
            "=================================================================\n",
            "Total params: 14,714,688\n",
            "Trainable params: 0\n",
            "Non-trainable params: 14,714,688\n",
            "_________________________________________________________________\n",
            "None\n",
            "2021-04-26 01:33:28,275 - root - INFO - Phase 1 starting...\n",
            "Epoch 1/25\n",
            "600/600 [==============================] - 44s 18ms/step - loss: 1.3349 - accuracy: 0.6333 - val_loss: 0.7346 - val_accuracy: 0.7679\n",
            "Epoch 2/25\n",
            "600/600 [==============================] - 10s 17ms/step - loss: 0.7029 - accuracy: 0.7778 - val_loss: 0.5352 - val_accuracy: 0.8213\n",
            "Epoch 3/25\n",
            "600/600 [==============================] - 11s 18ms/step - loss: 0.5904 - accuracy: 0.8054 - val_loss: 0.5764 - val_accuracy: 0.8035\n",
            "Epoch 4/25\n",
            "600/600 [==============================] - 11s 18ms/step - loss: 0.5508 - accuracy: 0.8170 - val_loss: 0.5489 - val_accuracy: 0.8163\n",
            "Epoch 5/25\n",
            "600/600 [==============================] - 11s 18ms/step - loss: 0.5464 - accuracy: 0.8200 - val_loss: 0.5008 - val_accuracy: 0.8350\n",
            "Epoch 6/25\n",
            "600/600 [==============================] - 11s 18ms/step - loss: 0.5298 - accuracy: 0.8267 - val_loss: 0.4601 - val_accuracy: 0.8456\n",
            "Epoch 7/25\n",
            "600/600 [==============================] - 11s 18ms/step - loss: 0.5236 - accuracy: 0.8217 - val_loss: 0.5186 - val_accuracy: 0.8288\n",
            "Epoch 8/25\n",
            "600/600 [==============================] - 11s 19ms/step - loss: 0.5222 - accuracy: 0.8266 - val_loss: 0.4696 - val_accuracy: 0.8452\n",
            "Epoch 9/25\n",
            "600/600 [==============================] - 11s 18ms/step - loss: 0.5001 - accuracy: 0.8305 - val_loss: 0.4511 - val_accuracy: 0.8579\n",
            "Epoch 10/25\n",
            "600/600 [==============================] - 11s 18ms/step - loss: 0.5019 - accuracy: 0.8330 - val_loss: 0.4845 - val_accuracy: 0.8367\n",
            "Epoch 11/25\n",
            "600/600 [==============================] - 11s 18ms/step - loss: 0.5115 - accuracy: 0.8326 - val_loss: 0.4759 - val_accuracy: 0.8485\n",
            "Epoch 12/25\n",
            "600/600 [==============================] - 11s 18ms/step - loss: 0.4888 - accuracy: 0.8413 - val_loss: 0.5084 - val_accuracy: 0.8379\n",
            "Epoch 00012: early stopping\n"
          ],
          "name": "stdout"
        },
        {
          "output_type": "display_data",
          "data": {
            "image/png": "[encoded data removed]",
            "text/plain": [
              "<Figure size 1440x720 with 1 Axes>"
            ]
          },
          "metadata": {
            "tags": [],
            "needs_background": "light"
          }
        },
        {
          "output_type": "stream",
          "text": [
            "Best validation accuracy: 0.8579166531562805, epoch = 8\n",
            "Best validation loss: 0.4511149227619171, epoch = 8\n",
            "2021-04-26 01:36:15,373 - root - INFO - OK.\n",
            "2021-04-26 01:36:15,375 - root - INFO - Phase 2 starting...\n",
            "Epoch 1/25\n",
            "600/600 [==============================] - 23s 36ms/step - loss: 0.4119 - accuracy: 0.8638 - val_loss: 0.4364 - val_accuracy: 0.8679\n",
            "Epoch 2/25\n",
            "600/600 [==============================] - 21s 35ms/step - loss: 0.2590 - accuracy: 0.9112 - val_loss: 0.2959 - val_accuracy: 0.9035\n",
            "Epoch 3/25\n",
            "600/600 [==============================] - 21s 35ms/step - loss: 0.1872 - accuracy: 0.9395 - val_loss: 0.3088 - val_accuracy: 0.9073\n",
            "Epoch 4/25\n",
            "600/600 [==============================] - 21s 35ms/step - loss: 0.1447 - accuracy: 0.9511 - val_loss: 0.3020 - val_accuracy: 0.9194\n",
            "Epoch 5/25\n",
            "600/600 [==============================] - 21s 35ms/step - loss: 0.1185 - accuracy: 0.9607 - val_loss: 0.2817 - val_accuracy: 0.9171\n",
            "Epoch 6/25\n",
            "600/600 [==============================] - 21s 35ms/step - loss: 0.0944 - accuracy: 0.9678 - val_loss: 0.2858 - val_accuracy: 0.9258\n",
            "Epoch 7/25\n",
            "600/600 [==============================] - 21s 35ms/step - loss: 0.0766 - accuracy: 0.9742 - val_loss: 0.3234 - val_accuracy: 0.9185\n",
            "Epoch 8/25\n",
            "600/600 [==============================] - 21s 35ms/step - loss: 0.0714 - accuracy: 0.9758 - val_loss: 0.3206 - val_accuracy: 0.9275\n",
            "Epoch 00008: early stopping\n",
            "2021-04-26 01:39:11,072 - root - INFO - OK.\n"
          ],
          "name": "stdout"
        }
      ]
    },
    {
      "cell_type": "code",
      "metadata": {
        "colab": {
          "base_uri": "https://localhost:8080/"
        },
        "id": "sFLr-Wcoxd3d",
        "outputId": "140932b2-cc9e-49e5-cd01-f117eee3d490"
      },
      "source": [
        "gc.collect()"
      ],
      "execution_count": 14,
      "outputs": [
        {
          "output_type": "execute_result",
          "data": {
            "text/plain": [
              "180"
            ]
          },
          "metadata": {
            "tags": []
          },
          "execution_count": 14
        }
      ]
    },
    {
      "cell_type": "code",
      "metadata": {
        "id": "EDzwBjkv1K83",
        "outputId": "66620627-4c5e-4cd6-ced6-3358c83a748c",
        "colab": {
          "base_uri": "https://localhost:8080/"
        }
      },
      "source": [
        "!ps | grep -i python\n",
        "! ps -eo pmem,pcpu,vsize,pid,cmd | sort -k 1 -nr | head -5"
      ],
      "execution_count": 17,
      "outputs": [
        {
          "output_type": "stream",
          "text": [
            "     57 ?        00:05:33 python3\n",
            "     77 ?        00:00:01 python3\n",
            "    254 ?        00:00:00 python3\n",
            "88.4 59.6 46543936    57 /usr/bin/python3 -m ipykernel_launcher -f /root/.local/share/jupyter/runtime/kernel-36e8ca50-2420-42b5-9815-3dd0fadd27a8.json\n",
            " 0.4  1.7 2465000    201 /opt/google/drive/drive --features=fuse_max_background:1000,max_read_qps:1000,max_write_qps:1000,max_operation_batch_size:15,max_parallel_push_task_instances:10,opendir_timeout_ms:120000,virtual_folders_omit_spaces:true --inet_family=IPV4_ONLY --preferences=trusted_root_certs_file_path:/opt/google/drive/roots.pem,mount_point_path:/content/gdrive --console_auth --auto_restart_count=1 --first_auto_restart_timestamp=551 --single_process --parent_version=46.0.3.0 --crash_handler_token=dummy_crash_token\n",
            " 0.4  0.9 195188      46 /usr/bin/python2 /usr/local/bin/jupyter-notebook --ip=\"172.28.0.2\" --port=9000 --FileContentsManager.root_dir=\"/\" --LargeFileManager.delete_to_trash=False --MappingKernelManager.root_dir=\"/content\"\n",
            " 0.2  0.5 345964       1 /tools/node/bin/node /datalab/web/app.js\n",
            " 0.1  0.3 129180      77 /usr/bin/python3 /usr/local/lib/python3.7/dist-packages/debugpy/adapter --for-server 43437 --host 127.0.0.1 --port 19360 --server-access-token 171c48cb2752717e92d9e487cfee290bb7110c9a61282d0e13f6e2874a25a7ae\n"
          ],
          "name": "stdout"
        }
      ]
    },
    {
      "cell_type": "code",
      "metadata": {
        "id": "CNEM2AL-1Qo2"
      },
      "source": [
        "!kill -9 57"
      ],
      "execution_count": null,
      "outputs": []
    },
    {
      "cell_type": "code",
      "metadata": {
        "id": "MgoCT5DB1mlk",
        "outputId": "3579c1a1-1c6c-4282-97f2-2215abf04308",
        "colab": {
          "base_uri": "https://localhost:8080/",
          "height": 169
        }
      },
      "source": [
        "os.getpid()"
      ],
      "execution_count": 1,
      "outputs": [
        {
          "output_type": "error",
          "ename": "NameError",
          "evalue": "ignored",
          "traceback": [
            "\u001b[0;31m---------------------------------------------------------------------------\u001b[0m",
            "\u001b[0;31mNameError\u001b[0m                                 Traceback (most recent call last)",
            "\u001b[0;32m<ipython-input-1-80429729cee1>\u001b[0m in \u001b[0;36m<module>\u001b[0;34m()\u001b[0m\n\u001b[0;32m----> 1\u001b[0;31m \u001b[0mos\u001b[0m\u001b[0;34m.\u001b[0m\u001b[0mgetpid\u001b[0m\u001b[0;34m(\u001b[0m\u001b[0;34m)\u001b[0m\u001b[0;34m\u001b[0m\u001b[0;34m\u001b[0m\u001b[0m\n\u001b[0m",
            "\u001b[0;31mNameError\u001b[0m: name 'os' is not defined"
          ]
        }
      ]
    },
    {
      "cell_type": "code",
      "metadata": {
        "id": "2gdKL84o1qfC"
      },
      "source": [
        ""
      ],
      "execution_count": null,
      "outputs": []
    }
  ]
}